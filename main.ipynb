{
 "cells": [
  {
   "cell_type": "markdown",
   "id": "6af67f6f",
   "metadata": {},
   "source": [
    "# Firstly, adding smile+face detection"
   ]
  },
  {
   "cell_type": "code",
   "execution_count": 37,
   "id": "17885dc9",
   "metadata": {},
   "outputs": [],
   "source": [
    "import cv2"
   ]
  },
  {
   "cell_type": "code",
   "execution_count": 38,
   "id": "175846a8",
   "metadata": {},
   "outputs": [],
   "source": [
    "face_cascade = cv2.CascadeClassifier(cv2.data.haarcascades +'haarcascade_frontalface_default.xml')\n",
   
    "smile_cascade = cv2.CascadeClassifier(cv2.data.haarcascades +'haarcascade_smile.xml')"
   ]
  },
  {
   "cell_type": "code",
   "execution_count": 39,
   "id": "7e40fb4f",
   "metadata": {},
   "outputs": [],
   "source": [
    "def detect(gray, frame):\n",
    "    faces = face_cascade.detectMultiScale(gray, 1.3, 5)\n",
    "    for (x, y, w, h) in faces:\n",
    "        cv2.rectangle(frame, (x, y), ((x + w), (y + h)), (255, 0, 0), 2)\n",
    "        roi_gray = gray[y:y + h, x:x + w]\n",
    "        roi_color = frame[y:y + h, x:x + w]\n",
    "        smiles = smile_cascade.detectMultiScale(roi_gray, 1.8, 20)\n",
    " \n",
    "        for (sx, sy, sw, sh) in smiles:\n",
    "            cv2.rectangle(roi_color, (sx, sy), ((sx + sw), (sy + sh)), (0, 0, 255), 2)\n",
    "    return frame"
   ]
  },
  {
   "cell_type": "code",
   "execution_count": 40,
   "id": "3f67d15b",
   "metadata": {},
   "outputs": [],
   "source": [
    "video_capture = cv2.VideoCapture(0)\n",
    "while video_capture.isOpened():\n",
    "   # Captures video_capture frame by frame\n",
    "    _, frame = video_capture.read()\n",
    " \n",
    "    # To capture image in monochrome                   \n",
    "    gray = cv2.cvtColor(frame, cv2.COLOR_BGR2GRAY) \n",
    "     \n",
    "    # calls the detect() function   \n",
    "    canvas = detect(gray, frame)  \n",
    " \n",
    "    # Displays the result on camera feed                    \n",
    "    cv2.imshow('Video', canvas)\n",
    " \n",
    "    # The control breaks once q key is pressed                       \n",
    "    if cv2.waitKey(1) & 0xff == ord('q'):              \n",
    "        break\n",
    "video_capture.release()                                \n",
    "cv2.destroyAllWindows()"
   ]
  },
  {
   "cell_type": "code",
   "execution_count": 41,
   "id": "3bcb1e1c",
   "metadata": {},
   "outputs": [],
   "source": [
    "#pip install --user opencv-contrib-python==4.5.3.56 "
   ]
  },
  {
   "cell_type": "markdown",
   "id": "75db8da3",
   "metadata": {},
   "source": [
    "# Feature matching with SIFT on live camera"
   ]
  },
  {
   "cell_type": "code",
   "execution_count": 42,
   "id": "301c2117",
   "metadata": {},
   "outputs": [],
   "source": [
    "import cv2 \n",
    "import matplotlib.pyplot as plt\n",
    "#sift\n",
    "sift = cv2.SIFT_create()\n",
    "#feature matching\n",
    "bf = cv2.BFMatcher(cv2.NORM_L2, crossCheck=True)\n",
    "cap = cv2.VideoCapture(0)\n",
    "while cap.isOpened():\n",
    "    suc,img1 = cap.read()\n",
    "    img2 = img1\n",
    "    img1 = cv2.cvtColor(img1, cv2.COLOR_BGR2GRAY)\n",
    "    img2 = cv2.imread('test123.png')\n",
    "    img2 = cv2.cvtColor(img2, cv2.COLOR_BGR2GRAY)\n",
    "\n",
    "\n",
    "    keypoints_1, descriptors_1 = sift.detectAndCompute(img1,None)\n",
    "    keypoints_2, descriptors_2 = sift.detectAndCompute(img2,None)\n",
    "\n",
    "    matches = bf.match(descriptors_1,descriptors_2)\n",
    "    matches = sorted(matches, key = lambda x:x.distance)\n",
    "    \n",
    "    img3 = cv2.drawMatches(img1, keypoints_1, img2, keypoints_2, matches[:300], img2, flags=2)\n",
    "    cv2.imshow('SIFT', img3)\n",
    "    if cv2.waitKey(1) & 0xff == ord('q'):              \n",
    "        break\n",
    "\n",
    "cap.release()\n",
    "cv2.destroyAllWindows()"
   ]
  }
 ],
 "metadata": {
  "kernelspec": {
   "display_name": "Python 3 (ipykernel)",
   "language": "python",
   "name": "python3"
  },
  "language_info": {
   "codemirror_mode": {
    "name": "ipython",
    "version": 3
   },
   "file_extension": ".py",
   "mimetype": "text/x-python",
   "name": "python",
   "nbconvert_exporter": "python",
   "pygments_lexer": "ipython3",
   "version": "3.8.8"
  }
 },
 "nbformat": 4,
 "nbformat_minor": 5
}
